{
 "cells": [
  {
   "cell_type": "code",
   "execution_count": null,
   "metadata": {},
   "outputs": [],
   "source": [
    "import numpy as np\n",
    "import pandas as pd\n",
    "import seaborn as sns\n",
    "import math"
   ]
  },
  {
   "cell_type": "code",
   "execution_count": null,
   "metadata": {},
   "outputs": [],
   "source": [
    "df = pd.read_csv('train.csv')\n",
    "df.columns"
   ]
  },
  {
   "cell_type": "code",
   "execution_count": null,
   "metadata": {
    "scrolled": true
   },
   "outputs": [],
   "source": [
    "df = df.drop(['Unnamed: 0', 'id'], axis=1)\n",
    "df"
   ]
  },
  {
   "cell_type": "code",
   "execution_count": null,
   "metadata": {
    "scrolled": true
   },
   "outputs": [],
   "source": [
    "df[df.isnull().any(axis=1)]\n",
    "# We dropped these as there was no correlation between the values with nas and any other factor. \n",
    "# It was simply random and missing. there were only 310 rows missing so we thought it would not impact our dataset\n",
    "df = df.dropna()"
   ]
  },
  {
   "cell_type": "code",
   "execution_count": null,
   "metadata": {
    "scrolled": true
   },
   "outputs": [],
   "source": [
    "import matplotlib as plt\n",
    "from matplotlib import pyplot as plt\n",
    "import seaborn as sns\n",
    "df_gender = df[['Gender', 'satisfaction']]\n",
    "df_gender\n",
    "\n",
    "df_male = df_gender.loc[df['Gender'] == 'Male']\n",
    "df_female = df_gender.loc[df['Gender'] == 'Female']\n",
    "df_male.value_counts()\n",
    "\n",
    "def autopct_format(values):\n",
    "        def my_format(pct):\n",
    "            total = sum(values)\n",
    "            val = int(round(pct*total/100.0))\n",
    "            return '{:.1f}%\\n({v:d})'.format(pct, v=val)\n",
    "        return my_format\n",
    "    \n",
    "sns.set_theme(style=\"white\", palette = 'muted')\n",
    "male = df_male['satisfaction'].value_counts()\n",
    "plt.pie(male,labels = male.index, autopct=autopct_format(male))\n",
    "plt.title('Male Satisfaction Level')\n",
    "plt.axis('equal')\n",
    "plt.show()"
   ]
  },
  {
   "cell_type": "code",
   "execution_count": null,
   "metadata": {
    "scrolled": true
   },
   "outputs": [],
   "source": [
    "sns.set_theme(style=\"white\", palette = 'muted')\n",
    "female = df_female['satisfaction'].value_counts()\n",
    "plt.pie(female,labels = female.index, autopct=autopct_format(female))\n",
    "plt.title('Female Satisfaction Level')\n",
    "plt.axis('equal')\n",
    "plt.show()"
   ]
  },
  {
   "cell_type": "code",
   "execution_count": null,
   "metadata": {},
   "outputs": [],
   "source": [
    "X = ['Male', 'Female'] \n",
    "satisfied = [22428,22469] \n",
    "unsatisfied = [28590, 30107] \n",
    "  \n",
    "X_axis = np.arange(len(X)) \n",
    "\n",
    "sns.set_theme(style=\"whitegrid\", palette = 'muted')\n",
    "plt.figure(figsize=(12,7))\n",
    "  \n",
    "p1 = plt.bar(X_axis - 0.2, satisfied, 0.4, label = 'Satisfied') \n",
    "p2 = plt.bar(X_axis + 0.2, unsatisfied, 0.4, label = 'Neutral or dissatisfied')\n",
    "\n",
    "for p in p1.patches:\n",
    "    width = p.get_width()\n",
    "    height = p.get_height()\n",
    "    x, y = p.get_xy() \n",
    "    plt.annotate(f'{height}', (x + width/2, y + height*1.01), ha='center')\n",
    "    \n",
    "for p in p2.patches:\n",
    "    width = p.get_width()\n",
    "    height = p.get_height()\n",
    "    x, y = p.get_xy() \n",
    "    plt.annotate(f'{height}', (x + width/2, y + height*1.01), ha='center')\n",
    "\n",
    "\n",
    "# for rect1 in p1:\n",
    "#     height = rect1.get_height()\n",
    "#     plt.annotate( \"{}%\".format(height/),(rect1.get_x() + rect1.get_width()/2, height+.05),ha=\"center\",va=\"bottom\",fontsize=11)\n",
    "    \n",
    "# for rect1 in p2:\n",
    "#     height = rect1.get_height()\n",
    "#     plt.annotate( \"{}%\".format(height),(rect1.get_x() + rect1.get_width()/2, height+.05),ha=\"center\",va=\"bottom\",fontsize=11)\n",
    "\n",
    "plt.xticks(X_axis, X) \n",
    "plt.xlabel(\"Gender\") \n",
    "plt.ylabel(\"Satisfaction Level\") \n",
    "plt.title(\"Satisfaction Level by Gender\") \n",
    "plt.legend(loc = 'upper left') \n",
    "plt.show() "
   ]
  },
  {
   "cell_type": "markdown",
   "metadata": {},
   "source": [
    "Optimum level of cleanliness"
   ]
  },
  {
   "cell_type": "code",
   "execution_count": null,
   "metadata": {},
   "outputs": [],
   "source": [
    "X = [1,2,3,4,5] \n",
    "satisfied = [2607, 3428, 10581, 14513, 13768] \n",
    "unsatisfied = [10669, 12653, 13925, 12587, 8851] \n",
    "\n",
    "X_axis = np.arange(len(X)) \n",
    "\n",
    "sns.set_theme(style=\"whitegrid\", palette = 'muted')\n",
    "plt.figure(figsize=(12,7))\n",
    "  \n",
    "p1 = plt.bar(X_axis - 0.2, satisfied, 0.4, label = 'Satisfied') \n",
    "p2 = plt.bar(X_axis + 0.2, unsatisfied, 0.4, label = 'Neutral or dissatisfied')\n",
    "\n",
    "for p in p1.patches:\n",
    "    width = p.get_width()\n",
    "    height = p.get_height()\n",
    "    x, y = p.get_xy() \n",
    "    plt.annotate(f'{height}', (x + width/2, y + height*1.01), ha='center')\n",
    "    \n",
    "for p in p2.patches:\n",
    "    width = p.get_width()\n",
    "    height = p.get_height()\n",
    "    x, y = p.get_xy() \n",
    "    plt.annotate(f'{height}', (x + width/2, y + height*1.01), ha='center')\n",
    "    \n",
    "plt.xticks(X_axis, X) \n",
    "plt.xlabel(\"Cleanliness Satisfaction\") \n",
    "plt.ylabel(\"Overall Satisfaction Level\") \n",
    "plt.title(\"Satisfaction Level by Cleanliness\") \n",
    "plt.legend(loc = 'upper left') \n",
    "plt.show() "
   ]
  },
  {
   "cell_type": "code",
   "execution_count": null,
   "metadata": {
    "scrolled": false
   },
   "outputs": [],
   "source": [
    "# df.corr()\n",
    "df[\"Gender\"] = df[\"Gender\"].replace({\"Male\": 0, \"Female\": 1})\n",
    "df"
   ]
  },
  {
   "cell_type": "code",
   "execution_count": null,
   "metadata": {},
   "outputs": [],
   "source": [
    "df[\"satisfaction\"] = df[\"satisfaction\"].replace({\"neutral or dissatisfied\": 0, \"satisfied\": 1})"
   ]
  },
  {
   "cell_type": "code",
   "execution_count": null,
   "metadata": {
    "scrolled": true
   },
   "outputs": [],
   "source": [
    "l = df.iloc[:, 5:-1].corrwith(df['satisfaction']).sort_values()\n",
    "print(l)\n",
    "heat = sns.heatmap(df.iloc[:, 5:].corr())"
   ]
  },
  {
   "cell_type": "markdown",
   "metadata": {},
   "source": [
    "## What to do\n",
    " - By age group what is the most important factor / age ratings - Shaf\n",
    " - Factors that become least or more important depending on flight time/duration - Katherine\n",
    " - Loyal vs nonloyal customer ratings - Katherine\n",
    " - Gender ratings - Agathe\n",
    " - What is the optimum level of cleanliness/food & drink/inflight service: are people satisfied with 3 - All\n",
    " - Report - All\n",
    " - If extra time: find another dataset which has flight times and make a graph\n",
    "\n",
    "\n",
    "## Limitations\n",
    "- Price is not included\n",
    "- Time of flight is not included, set as convenient or not\n"
   ]
  },
  {
   "cell_type": "code",
   "execution_count": null,
   "metadata": {},
   "outputs": [],
   "source": [
    "df[\"Customer Type\"] = df[\"Customer Type\"].replace({\"Loyal Customer\": 1, \"disloyal Customer\": 0})\n",
    "df[\"Type of Travel\"] = df[\"Type of Travel\"].replace({\"Personal Travel\": 0, \"Business travel\": 1})\n",
    "df[\"Class\"] = df[\"Class\"].replace({\"Eco\": 1, \"Eco Plus\": 2, \"Business\": 3})\n",
    "df"
   ]
  },
  {
   "cell_type": "code",
   "execution_count": null,
   "metadata": {
    "scrolled": false
   },
   "outputs": [],
   "source": [
    "cor = df.corr()\n",
    "sns.heatmap(cor, square = True)\n",
    "plt.show()"
   ]
  },
  {
   "cell_type": "code",
   "execution_count": null,
   "metadata": {},
   "outputs": [],
   "source": [
    "from sklearn import datasets\n",
    "from sklearn.preprocessing import StandardScaler\n",
    "from sklearn.cluster import AgglomerativeClustering\n",
    "import pandas as pd\n",
    "import seaborn as sns\n",
    "import matplotlib.pyplot as plt\n",
    "from sklearn import metrics\n",
    "from sklearn import cluster\n",
    "from sklearn.preprocessing import scale\n",
    "\n",
    "df = df.sample(n = 30000)\n",
    "X = df.sample(n = 30000)\n",
    "scaler = StandardScaler()\n",
    "X_std = scaler.fit_transform(X)\n",
    "\n",
    "model = cluster.AgglomerativeClustering(n_clusters=2, linkage=\"average\", affinity=\"euclidean\")\n",
    "\n",
    "# Once created, now we can fit the model to the data\n",
    "model.fit(df)"
   ]
  },
  {
   "cell_type": "code",
   "execution_count": null,
   "metadata": {},
   "outputs": [],
   "source": [
    "# https://scikit-learn.org/stable/modules/generated/sklearn.metrics.silhouette_score.html\n",
    "print(\"Silhouette Coefficient:\", metrics.silhouette_score(df, model.labels_))\n",
    "\n",
    "# We can also calculate the calinski_harabasz_score\n",
    "# https://scikit-learn.org/stable/modules/generated/sklearn.metrics.calinski_harabasz_score.html\n",
    "print(\"Calinski_harabasz Coefficient:\", metrics.calinski_harabasz_score(df, model.labels_))"
   ]
  },
  {
   "cell_type": "code",
   "execution_count": null,
   "metadata": {},
   "outputs": [],
   "source": [
    "print(\"Completeness score\", metrics.completeness_score(df['satisfaction'], model.labels_))\n",
    "print(\"Homogeneity score\", metrics.homogeneity_score(df['satisfaction'], model.labels_))"
   ]
  },
  {
   "cell_type": "code",
   "execution_count": null,
   "metadata": {},
   "outputs": [],
   "source": [
    "# from scipy.cluster.hierarchy import dendrogram, linkage\n",
    "\n",
    "# # in this example, we are using ward as linkage as it is more appropriate for this dataset\n",
    "# # https://docs.scipy.org/doc/scipy/reference/generated/scipy.cluster.hierarchy.linkage.html\n",
    "# model = linkage(df, 'ward')\n",
    "\n",
    "# # we can increase the size of the graph, if needed\n",
    "# plt.figure(figsize=(12,7))\n",
    "# plt.title('Hierarchical Clustering Dendrogram')\n",
    "# plt.xlabel('sample index')\n",
    "# plt.ylabel('distance')\n",
    "# dendrogram(model, leaf_rotation=90., leaf_font_size=8.,)\n",
    "# plt.show()"
   ]
  }
 ],
 "metadata": {
  "kernelspec": {
   "display_name": "Python 3",
   "language": "python",
   "name": "python3"
  },
  "language_info": {
   "codemirror_mode": {
    "name": "ipython",
    "version": 3
   },
   "file_extension": ".py",
   "mimetype": "text/x-python",
   "name": "python",
   "nbconvert_exporter": "python",
   "pygments_lexer": "ipython3",
   "version": "3.7.0"
  }
 },
 "nbformat": 4,
 "nbformat_minor": 4
}
