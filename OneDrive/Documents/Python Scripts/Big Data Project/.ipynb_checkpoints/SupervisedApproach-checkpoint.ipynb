{
 "cells": [
  {
   "cell_type": "code",
   "execution_count": 32,
   "metadata": {},
   "outputs": [],
   "source": [
    "import numpy as np\n",
    "import pandas as pd\n",
    "import seaborn as sns\n",
    "import matplotlib.pyplot as plt"
   ]
  },
  {
   "cell_type": "code",
   "execution_count": 2,
   "metadata": {},
   "outputs": [
    {
     "data": {
      "text/plain": [
       "Index(['Unnamed: 0', 'id', 'Gender', 'Customer Type', 'Age', 'Type of Travel',\n",
       "       'Class', 'Flight Distance', 'Inflight wifi service',\n",
       "       'Departure/Arrival time convenient', 'Ease of Online booking',\n",
       "       'Gate location', 'Food and drink', 'Online boarding', 'Seat comfort',\n",
       "       'Inflight entertainment', 'On-board service', 'Leg room service',\n",
       "       'Baggage handling', 'Checkin service', 'Inflight service',\n",
       "       'Cleanliness', 'Departure Delay in Minutes', 'Arrival Delay in Minutes',\n",
       "       'satisfaction'],\n",
       "      dtype='object')"
      ]
     },
     "execution_count": 2,
     "metadata": {},
     "output_type": "execute_result"
    }
   ],
   "source": [
    "df = pd.read_csv('train.csv')\n",
    "df.columns"
   ]
  },
  {
   "cell_type": "code",
   "execution_count": 3,
   "metadata": {
    "scrolled": true
   },
   "outputs": [
    {
     "data": {
      "text/html": [
       "<div>\n",
       "<style scoped>\n",
       "    .dataframe tbody tr th:only-of-type {\n",
       "        vertical-align: middle;\n",
       "    }\n",
       "\n",
       "    .dataframe tbody tr th {\n",
       "        vertical-align: top;\n",
       "    }\n",
       "\n",
       "    .dataframe thead th {\n",
       "        text-align: right;\n",
       "    }\n",
       "</style>\n",
       "<table border=\"1\" class=\"dataframe\">\n",
       "  <thead>\n",
       "    <tr style=\"text-align: right;\">\n",
       "      <th></th>\n",
       "      <th>Gender</th>\n",
       "      <th>Customer Type</th>\n",
       "      <th>Age</th>\n",
       "      <th>Type of Travel</th>\n",
       "      <th>Class</th>\n",
       "      <th>Flight Distance</th>\n",
       "      <th>Inflight wifi service</th>\n",
       "      <th>Departure/Arrival time convenient</th>\n",
       "      <th>Ease of Online booking</th>\n",
       "      <th>Gate location</th>\n",
       "      <th>...</th>\n",
       "      <th>Inflight entertainment</th>\n",
       "      <th>On-board service</th>\n",
       "      <th>Leg room service</th>\n",
       "      <th>Baggage handling</th>\n",
       "      <th>Checkin service</th>\n",
       "      <th>Inflight service</th>\n",
       "      <th>Cleanliness</th>\n",
       "      <th>Departure Delay in Minutes</th>\n",
       "      <th>Arrival Delay in Minutes</th>\n",
       "      <th>satisfaction</th>\n",
       "    </tr>\n",
       "  </thead>\n",
       "  <tbody>\n",
       "    <tr>\n",
       "      <th>0</th>\n",
       "      <td>Male</td>\n",
       "      <td>Loyal Customer</td>\n",
       "      <td>13</td>\n",
       "      <td>Personal Travel</td>\n",
       "      <td>Eco Plus</td>\n",
       "      <td>460</td>\n",
       "      <td>3</td>\n",
       "      <td>4</td>\n",
       "      <td>3</td>\n",
       "      <td>1</td>\n",
       "      <td>...</td>\n",
       "      <td>5</td>\n",
       "      <td>4</td>\n",
       "      <td>3</td>\n",
       "      <td>4</td>\n",
       "      <td>4</td>\n",
       "      <td>5</td>\n",
       "      <td>5</td>\n",
       "      <td>25</td>\n",
       "      <td>18.0</td>\n",
       "      <td>neutral or dissatisfied</td>\n",
       "    </tr>\n",
       "    <tr>\n",
       "      <th>1</th>\n",
       "      <td>Male</td>\n",
       "      <td>disloyal Customer</td>\n",
       "      <td>25</td>\n",
       "      <td>Business travel</td>\n",
       "      <td>Business</td>\n",
       "      <td>235</td>\n",
       "      <td>3</td>\n",
       "      <td>2</td>\n",
       "      <td>3</td>\n",
       "      <td>3</td>\n",
       "      <td>...</td>\n",
       "      <td>1</td>\n",
       "      <td>1</td>\n",
       "      <td>5</td>\n",
       "      <td>3</td>\n",
       "      <td>1</td>\n",
       "      <td>4</td>\n",
       "      <td>1</td>\n",
       "      <td>1</td>\n",
       "      <td>6.0</td>\n",
       "      <td>neutral or dissatisfied</td>\n",
       "    </tr>\n",
       "    <tr>\n",
       "      <th>2</th>\n",
       "      <td>Female</td>\n",
       "      <td>Loyal Customer</td>\n",
       "      <td>26</td>\n",
       "      <td>Business travel</td>\n",
       "      <td>Business</td>\n",
       "      <td>1142</td>\n",
       "      <td>2</td>\n",
       "      <td>2</td>\n",
       "      <td>2</td>\n",
       "      <td>2</td>\n",
       "      <td>...</td>\n",
       "      <td>5</td>\n",
       "      <td>4</td>\n",
       "      <td>3</td>\n",
       "      <td>4</td>\n",
       "      <td>4</td>\n",
       "      <td>4</td>\n",
       "      <td>5</td>\n",
       "      <td>0</td>\n",
       "      <td>0.0</td>\n",
       "      <td>satisfied</td>\n",
       "    </tr>\n",
       "    <tr>\n",
       "      <th>3</th>\n",
       "      <td>Female</td>\n",
       "      <td>Loyal Customer</td>\n",
       "      <td>25</td>\n",
       "      <td>Business travel</td>\n",
       "      <td>Business</td>\n",
       "      <td>562</td>\n",
       "      <td>2</td>\n",
       "      <td>5</td>\n",
       "      <td>5</td>\n",
       "      <td>5</td>\n",
       "      <td>...</td>\n",
       "      <td>2</td>\n",
       "      <td>2</td>\n",
       "      <td>5</td>\n",
       "      <td>3</td>\n",
       "      <td>1</td>\n",
       "      <td>4</td>\n",
       "      <td>2</td>\n",
       "      <td>11</td>\n",
       "      <td>9.0</td>\n",
       "      <td>neutral or dissatisfied</td>\n",
       "    </tr>\n",
       "    <tr>\n",
       "      <th>4</th>\n",
       "      <td>Male</td>\n",
       "      <td>Loyal Customer</td>\n",
       "      <td>61</td>\n",
       "      <td>Business travel</td>\n",
       "      <td>Business</td>\n",
       "      <td>214</td>\n",
       "      <td>3</td>\n",
       "      <td>3</td>\n",
       "      <td>3</td>\n",
       "      <td>3</td>\n",
       "      <td>...</td>\n",
       "      <td>3</td>\n",
       "      <td>3</td>\n",
       "      <td>4</td>\n",
       "      <td>4</td>\n",
       "      <td>3</td>\n",
       "      <td>3</td>\n",
       "      <td>3</td>\n",
       "      <td>0</td>\n",
       "      <td>0.0</td>\n",
       "      <td>satisfied</td>\n",
       "    </tr>\n",
       "    <tr>\n",
       "      <th>...</th>\n",
       "      <td>...</td>\n",
       "      <td>...</td>\n",
       "      <td>...</td>\n",
       "      <td>...</td>\n",
       "      <td>...</td>\n",
       "      <td>...</td>\n",
       "      <td>...</td>\n",
       "      <td>...</td>\n",
       "      <td>...</td>\n",
       "      <td>...</td>\n",
       "      <td>...</td>\n",
       "      <td>...</td>\n",
       "      <td>...</td>\n",
       "      <td>...</td>\n",
       "      <td>...</td>\n",
       "      <td>...</td>\n",
       "      <td>...</td>\n",
       "      <td>...</td>\n",
       "      <td>...</td>\n",
       "      <td>...</td>\n",
       "      <td>...</td>\n",
       "    </tr>\n",
       "    <tr>\n",
       "      <th>103899</th>\n",
       "      <td>Female</td>\n",
       "      <td>disloyal Customer</td>\n",
       "      <td>23</td>\n",
       "      <td>Business travel</td>\n",
       "      <td>Eco</td>\n",
       "      <td>192</td>\n",
       "      <td>2</td>\n",
       "      <td>1</td>\n",
       "      <td>2</td>\n",
       "      <td>3</td>\n",
       "      <td>...</td>\n",
       "      <td>2</td>\n",
       "      <td>3</td>\n",
       "      <td>1</td>\n",
       "      <td>4</td>\n",
       "      <td>2</td>\n",
       "      <td>3</td>\n",
       "      <td>2</td>\n",
       "      <td>3</td>\n",
       "      <td>0.0</td>\n",
       "      <td>neutral or dissatisfied</td>\n",
       "    </tr>\n",
       "    <tr>\n",
       "      <th>103900</th>\n",
       "      <td>Male</td>\n",
       "      <td>Loyal Customer</td>\n",
       "      <td>49</td>\n",
       "      <td>Business travel</td>\n",
       "      <td>Business</td>\n",
       "      <td>2347</td>\n",
       "      <td>4</td>\n",
       "      <td>4</td>\n",
       "      <td>4</td>\n",
       "      <td>4</td>\n",
       "      <td>...</td>\n",
       "      <td>5</td>\n",
       "      <td>5</td>\n",
       "      <td>5</td>\n",
       "      <td>5</td>\n",
       "      <td>5</td>\n",
       "      <td>5</td>\n",
       "      <td>4</td>\n",
       "      <td>0</td>\n",
       "      <td>0.0</td>\n",
       "      <td>satisfied</td>\n",
       "    </tr>\n",
       "    <tr>\n",
       "      <th>103901</th>\n",
       "      <td>Male</td>\n",
       "      <td>disloyal Customer</td>\n",
       "      <td>30</td>\n",
       "      <td>Business travel</td>\n",
       "      <td>Business</td>\n",
       "      <td>1995</td>\n",
       "      <td>1</td>\n",
       "      <td>1</td>\n",
       "      <td>1</td>\n",
       "      <td>3</td>\n",
       "      <td>...</td>\n",
       "      <td>4</td>\n",
       "      <td>3</td>\n",
       "      <td>2</td>\n",
       "      <td>4</td>\n",
       "      <td>5</td>\n",
       "      <td>5</td>\n",
       "      <td>4</td>\n",
       "      <td>7</td>\n",
       "      <td>14.0</td>\n",
       "      <td>neutral or dissatisfied</td>\n",
       "    </tr>\n",
       "    <tr>\n",
       "      <th>103902</th>\n",
       "      <td>Female</td>\n",
       "      <td>disloyal Customer</td>\n",
       "      <td>22</td>\n",
       "      <td>Business travel</td>\n",
       "      <td>Eco</td>\n",
       "      <td>1000</td>\n",
       "      <td>1</td>\n",
       "      <td>1</td>\n",
       "      <td>1</td>\n",
       "      <td>5</td>\n",
       "      <td>...</td>\n",
       "      <td>1</td>\n",
       "      <td>4</td>\n",
       "      <td>5</td>\n",
       "      <td>1</td>\n",
       "      <td>5</td>\n",
       "      <td>4</td>\n",
       "      <td>1</td>\n",
       "      <td>0</td>\n",
       "      <td>0.0</td>\n",
       "      <td>neutral or dissatisfied</td>\n",
       "    </tr>\n",
       "    <tr>\n",
       "      <th>103903</th>\n",
       "      <td>Male</td>\n",
       "      <td>Loyal Customer</td>\n",
       "      <td>27</td>\n",
       "      <td>Business travel</td>\n",
       "      <td>Business</td>\n",
       "      <td>1723</td>\n",
       "      <td>1</td>\n",
       "      <td>3</td>\n",
       "      <td>3</td>\n",
       "      <td>3</td>\n",
       "      <td>...</td>\n",
       "      <td>1</td>\n",
       "      <td>1</td>\n",
       "      <td>1</td>\n",
       "      <td>4</td>\n",
       "      <td>4</td>\n",
       "      <td>3</td>\n",
       "      <td>1</td>\n",
       "      <td>0</td>\n",
       "      <td>0.0</td>\n",
       "      <td>neutral or dissatisfied</td>\n",
       "    </tr>\n",
       "  </tbody>\n",
       "</table>\n",
       "<p>103904 rows × 23 columns</p>\n",
       "</div>"
      ],
      "text/plain": [
       "        Gender      Customer Type  Age   Type of Travel     Class  \\\n",
       "0         Male     Loyal Customer   13  Personal Travel  Eco Plus   \n",
       "1         Male  disloyal Customer   25  Business travel  Business   \n",
       "2       Female     Loyal Customer   26  Business travel  Business   \n",
       "3       Female     Loyal Customer   25  Business travel  Business   \n",
       "4         Male     Loyal Customer   61  Business travel  Business   \n",
       "...        ...                ...  ...              ...       ...   \n",
       "103899  Female  disloyal Customer   23  Business travel       Eco   \n",
       "103900    Male     Loyal Customer   49  Business travel  Business   \n",
       "103901    Male  disloyal Customer   30  Business travel  Business   \n",
       "103902  Female  disloyal Customer   22  Business travel       Eco   \n",
       "103903    Male     Loyal Customer   27  Business travel  Business   \n",
       "\n",
       "        Flight Distance  Inflight wifi service  \\\n",
       "0                   460                      3   \n",
       "1                   235                      3   \n",
       "2                  1142                      2   \n",
       "3                   562                      2   \n",
       "4                   214                      3   \n",
       "...                 ...                    ...   \n",
       "103899              192                      2   \n",
       "103900             2347                      4   \n",
       "103901             1995                      1   \n",
       "103902             1000                      1   \n",
       "103903             1723                      1   \n",
       "\n",
       "        Departure/Arrival time convenient  Ease of Online booking  \\\n",
       "0                                       4                       3   \n",
       "1                                       2                       3   \n",
       "2                                       2                       2   \n",
       "3                                       5                       5   \n",
       "4                                       3                       3   \n",
       "...                                   ...                     ...   \n",
       "103899                                  1                       2   \n",
       "103900                                  4                       4   \n",
       "103901                                  1                       1   \n",
       "103902                                  1                       1   \n",
       "103903                                  3                       3   \n",
       "\n",
       "        Gate location  ...  Inflight entertainment  On-board service  \\\n",
       "0                   1  ...                       5                 4   \n",
       "1                   3  ...                       1                 1   \n",
       "2                   2  ...                       5                 4   \n",
       "3                   5  ...                       2                 2   \n",
       "4                   3  ...                       3                 3   \n",
       "...               ...  ...                     ...               ...   \n",
       "103899              3  ...                       2                 3   \n",
       "103900              4  ...                       5                 5   \n",
       "103901              3  ...                       4                 3   \n",
       "103902              5  ...                       1                 4   \n",
       "103903              3  ...                       1                 1   \n",
       "\n",
       "        Leg room service  Baggage handling  Checkin service  Inflight service  \\\n",
       "0                      3                 4                4                 5   \n",
       "1                      5                 3                1                 4   \n",
       "2                      3                 4                4                 4   \n",
       "3                      5                 3                1                 4   \n",
       "4                      4                 4                3                 3   \n",
       "...                  ...               ...              ...               ...   \n",
       "103899                 1                 4                2                 3   \n",
       "103900                 5                 5                5                 5   \n",
       "103901                 2                 4                5                 5   \n",
       "103902                 5                 1                5                 4   \n",
       "103903                 1                 4                4                 3   \n",
       "\n",
       "        Cleanliness  Departure Delay in Minutes  Arrival Delay in Minutes  \\\n",
       "0                 5                          25                      18.0   \n",
       "1                 1                           1                       6.0   \n",
       "2                 5                           0                       0.0   \n",
       "3                 2                          11                       9.0   \n",
       "4                 3                           0                       0.0   \n",
       "...             ...                         ...                       ...   \n",
       "103899            2                           3                       0.0   \n",
       "103900            4                           0                       0.0   \n",
       "103901            4                           7                      14.0   \n",
       "103902            1                           0                       0.0   \n",
       "103903            1                           0                       0.0   \n",
       "\n",
       "                   satisfaction  \n",
       "0       neutral or dissatisfied  \n",
       "1       neutral or dissatisfied  \n",
       "2                     satisfied  \n",
       "3       neutral or dissatisfied  \n",
       "4                     satisfied  \n",
       "...                         ...  \n",
       "103899  neutral or dissatisfied  \n",
       "103900                satisfied  \n",
       "103901  neutral or dissatisfied  \n",
       "103902  neutral or dissatisfied  \n",
       "103903  neutral or dissatisfied  \n",
       "\n",
       "[103904 rows x 23 columns]"
      ]
     },
     "execution_count": 3,
     "metadata": {},
     "output_type": "execute_result"
    }
   ],
   "source": [
    "df = df.drop(['Unnamed: 0', 'id'], axis=1)\n",
    "df"
   ]
  },
  {
   "cell_type": "code",
   "execution_count": 4,
   "metadata": {
    "scrolled": true
   },
   "outputs": [],
   "source": [
    "df[df.isnull().any(axis=1)]\n",
    "# We dropped these as there was no correlation between the values with nas and any other factor. \n",
    "# It was simply random and missing. there were only 310 rows missing so we thought it would not impact our dataset\n",
    "df = df.dropna()"
   ]
  },
  {
   "cell_type": "code",
   "execution_count": 5,
   "metadata": {},
   "outputs": [
    {
     "data": {
      "text/plain": [
       "array(['neutral or dissatisfied', 'satisfied'], dtype=object)"
      ]
     },
     "execution_count": 5,
     "metadata": {},
     "output_type": "execute_result"
    }
   ],
   "source": [
    "df['satisfaction'].unique()"
   ]
  },
  {
   "cell_type": "code",
   "execution_count": 6,
   "metadata": {},
   "outputs": [
    {
     "data": {
      "text/plain": [
       "array(['Loyal Customer', 'disloyal Customer'], dtype=object)"
      ]
     },
     "execution_count": 6,
     "metadata": {},
     "output_type": "execute_result"
    }
   ],
   "source": [
    "df['Customer Type'].unique()"
   ]
  },
  {
   "cell_type": "code",
   "execution_count": 7,
   "metadata": {},
   "outputs": [
    {
     "data": {
      "text/plain": [
       "array(['Eco Plus', 'Business', 'Eco'], dtype=object)"
      ]
     },
     "execution_count": 7,
     "metadata": {},
     "output_type": "execute_result"
    }
   ],
   "source": [
    "df['Class'].unique()"
   ]
  },
  {
   "cell_type": "code",
   "execution_count": 8,
   "metadata": {
    "scrolled": true
   },
   "outputs": [
    {
     "name": "stderr",
     "output_type": "stream",
     "text": [
      "C:\\Users\\kged2\\AppData\\Local\\Temp\\ipykernel_15148\\1757774004.py:1: SettingWithCopyWarning: \n",
      "A value is trying to be set on a copy of a slice from a DataFrame.\n",
      "Try using .loc[row_indexer,col_indexer] = value instead\n",
      "\n",
      "See the caveats in the documentation: https://pandas.pydata.org/pandas-docs/stable/user_guide/indexing.html#returning-a-view-versus-a-copy\n",
      "  df[\"satisfaction\"] = df[\"satisfaction\"].replace({'neutral or dissatisfied': 0, 'satisfied': 1})\n",
      "C:\\Users\\kged2\\AppData\\Local\\Temp\\ipykernel_15148\\1757774004.py:2: SettingWithCopyWarning: \n",
      "A value is trying to be set on a copy of a slice from a DataFrame.\n",
      "Try using .loc[row_indexer,col_indexer] = value instead\n",
      "\n",
      "See the caveats in the documentation: https://pandas.pydata.org/pandas-docs/stable/user_guide/indexing.html#returning-a-view-versus-a-copy\n",
      "  df[\"Gender\"] = df[\"Gender\"].replace({\"Male\": 0, \"Female\": 1})\n",
      "C:\\Users\\kged2\\AppData\\Local\\Temp\\ipykernel_15148\\1757774004.py:3: SettingWithCopyWarning: \n",
      "A value is trying to be set on a copy of a slice from a DataFrame.\n",
      "Try using .loc[row_indexer,col_indexer] = value instead\n",
      "\n",
      "See the caveats in the documentation: https://pandas.pydata.org/pandas-docs/stable/user_guide/indexing.html#returning-a-view-versus-a-copy\n",
      "  df[\"Customer Type\"] = df[\"Customer Type\"].replace({'disloyal Customer': 0, 'Loyal Customer':1})\n",
      "C:\\Users\\kged2\\AppData\\Local\\Temp\\ipykernel_15148\\1757774004.py:4: SettingWithCopyWarning: \n",
      "A value is trying to be set on a copy of a slice from a DataFrame.\n",
      "Try using .loc[row_indexer,col_indexer] = value instead\n",
      "\n",
      "See the caveats in the documentation: https://pandas.pydata.org/pandas-docs/stable/user_guide/indexing.html#returning-a-view-versus-a-copy\n",
      "  df[\"Type of Travel\"] = df[\"Type of Travel\"].replace({'Personal Travel': 0, 'Business travel':1})\n",
      "C:\\Users\\kged2\\AppData\\Local\\Temp\\ipykernel_15148\\1757774004.py:5: SettingWithCopyWarning: \n",
      "A value is trying to be set on a copy of a slice from a DataFrame.\n",
      "Try using .loc[row_indexer,col_indexer] = value instead\n",
      "\n",
      "See the caveats in the documentation: https://pandas.pydata.org/pandas-docs/stable/user_guide/indexing.html#returning-a-view-versus-a-copy\n",
      "  df[\"Class\"] = df[\"Class\"].replace({'Eco': 1, 'Business':2,'Eco Plus':3})\n"
     ]
    },
    {
     "data": {
      "text/html": [
       "<div>\n",
       "<style scoped>\n",
       "    .dataframe tbody tr th:only-of-type {\n",
       "        vertical-align: middle;\n",
       "    }\n",
       "\n",
       "    .dataframe tbody tr th {\n",
       "        vertical-align: top;\n",
       "    }\n",
       "\n",
       "    .dataframe thead th {\n",
       "        text-align: right;\n",
       "    }\n",
       "</style>\n",
       "<table border=\"1\" class=\"dataframe\">\n",
       "  <thead>\n",
       "    <tr style=\"text-align: right;\">\n",
       "      <th></th>\n",
       "      <th>Gender</th>\n",
       "      <th>Customer Type</th>\n",
       "      <th>Age</th>\n",
       "      <th>Type of Travel</th>\n",
       "      <th>Class</th>\n",
       "      <th>Flight Distance</th>\n",
       "      <th>Inflight wifi service</th>\n",
       "      <th>Departure/Arrival time convenient</th>\n",
       "      <th>Ease of Online booking</th>\n",
       "      <th>Gate location</th>\n",
       "      <th>...</th>\n",
       "      <th>Inflight entertainment</th>\n",
       "      <th>On-board service</th>\n",
       "      <th>Leg room service</th>\n",
       "      <th>Baggage handling</th>\n",
       "      <th>Checkin service</th>\n",
       "      <th>Inflight service</th>\n",
       "      <th>Cleanliness</th>\n",
       "      <th>Departure Delay in Minutes</th>\n",
       "      <th>Arrival Delay in Minutes</th>\n",
       "      <th>satisfaction</th>\n",
       "    </tr>\n",
       "  </thead>\n",
       "  <tbody>\n",
       "    <tr>\n",
       "      <th>0</th>\n",
       "      <td>0</td>\n",
       "      <td>1</td>\n",
       "      <td>13</td>\n",
       "      <td>0</td>\n",
       "      <td>3</td>\n",
       "      <td>460</td>\n",
       "      <td>3</td>\n",
       "      <td>4</td>\n",
       "      <td>3</td>\n",
       "      <td>1</td>\n",
       "      <td>...</td>\n",
       "      <td>5</td>\n",
       "      <td>4</td>\n",
       "      <td>3</td>\n",
       "      <td>4</td>\n",
       "      <td>4</td>\n",
       "      <td>5</td>\n",
       "      <td>5</td>\n",
       "      <td>25</td>\n",
       "      <td>18.0</td>\n",
       "      <td>0</td>\n",
       "    </tr>\n",
       "    <tr>\n",
       "      <th>1</th>\n",
       "      <td>0</td>\n",
       "      <td>0</td>\n",
       "      <td>25</td>\n",
       "      <td>1</td>\n",
       "      <td>2</td>\n",
       "      <td>235</td>\n",
       "      <td>3</td>\n",
       "      <td>2</td>\n",
       "      <td>3</td>\n",
       "      <td>3</td>\n",
       "      <td>...</td>\n",
       "      <td>1</td>\n",
       "      <td>1</td>\n",
       "      <td>5</td>\n",
       "      <td>3</td>\n",
       "      <td>1</td>\n",
       "      <td>4</td>\n",
       "      <td>1</td>\n",
       "      <td>1</td>\n",
       "      <td>6.0</td>\n",
       "      <td>0</td>\n",
       "    </tr>\n",
       "    <tr>\n",
       "      <th>2</th>\n",
       "      <td>1</td>\n",
       "      <td>1</td>\n",
       "      <td>26</td>\n",
       "      <td>1</td>\n",
       "      <td>2</td>\n",
       "      <td>1142</td>\n",
       "      <td>2</td>\n",
       "      <td>2</td>\n",
       "      <td>2</td>\n",
       "      <td>2</td>\n",
       "      <td>...</td>\n",
       "      <td>5</td>\n",
       "      <td>4</td>\n",
       "      <td>3</td>\n",
       "      <td>4</td>\n",
       "      <td>4</td>\n",
       "      <td>4</td>\n",
       "      <td>5</td>\n",
       "      <td>0</td>\n",
       "      <td>0.0</td>\n",
       "      <td>1</td>\n",
       "    </tr>\n",
       "    <tr>\n",
       "      <th>3</th>\n",
       "      <td>1</td>\n",
       "      <td>1</td>\n",
       "      <td>25</td>\n",
       "      <td>1</td>\n",
       "      <td>2</td>\n",
       "      <td>562</td>\n",
       "      <td>2</td>\n",
       "      <td>5</td>\n",
       "      <td>5</td>\n",
       "      <td>5</td>\n",
       "      <td>...</td>\n",
       "      <td>2</td>\n",
       "      <td>2</td>\n",
       "      <td>5</td>\n",
       "      <td>3</td>\n",
       "      <td>1</td>\n",
       "      <td>4</td>\n",
       "      <td>2</td>\n",
       "      <td>11</td>\n",
       "      <td>9.0</td>\n",
       "      <td>0</td>\n",
       "    </tr>\n",
       "    <tr>\n",
       "      <th>4</th>\n",
       "      <td>0</td>\n",
       "      <td>1</td>\n",
       "      <td>61</td>\n",
       "      <td>1</td>\n",
       "      <td>2</td>\n",
       "      <td>214</td>\n",
       "      <td>3</td>\n",
       "      <td>3</td>\n",
       "      <td>3</td>\n",
       "      <td>3</td>\n",
       "      <td>...</td>\n",
       "      <td>3</td>\n",
       "      <td>3</td>\n",
       "      <td>4</td>\n",
       "      <td>4</td>\n",
       "      <td>3</td>\n",
       "      <td>3</td>\n",
       "      <td>3</td>\n",
       "      <td>0</td>\n",
       "      <td>0.0</td>\n",
       "      <td>1</td>\n",
       "    </tr>\n",
       "    <tr>\n",
       "      <th>...</th>\n",
       "      <td>...</td>\n",
       "      <td>...</td>\n",
       "      <td>...</td>\n",
       "      <td>...</td>\n",
       "      <td>...</td>\n",
       "      <td>...</td>\n",
       "      <td>...</td>\n",
       "      <td>...</td>\n",
       "      <td>...</td>\n",
       "      <td>...</td>\n",
       "      <td>...</td>\n",
       "      <td>...</td>\n",
       "      <td>...</td>\n",
       "      <td>...</td>\n",
       "      <td>...</td>\n",
       "      <td>...</td>\n",
       "      <td>...</td>\n",
       "      <td>...</td>\n",
       "      <td>...</td>\n",
       "      <td>...</td>\n",
       "      <td>...</td>\n",
       "    </tr>\n",
       "    <tr>\n",
       "      <th>103899</th>\n",
       "      <td>1</td>\n",
       "      <td>0</td>\n",
       "      <td>23</td>\n",
       "      <td>1</td>\n",
       "      <td>1</td>\n",
       "      <td>192</td>\n",
       "      <td>2</td>\n",
       "      <td>1</td>\n",
       "      <td>2</td>\n",
       "      <td>3</td>\n",
       "      <td>...</td>\n",
       "      <td>2</td>\n",
       "      <td>3</td>\n",
       "      <td>1</td>\n",
       "      <td>4</td>\n",
       "      <td>2</td>\n",
       "      <td>3</td>\n",
       "      <td>2</td>\n",
       "      <td>3</td>\n",
       "      <td>0.0</td>\n",
       "      <td>0</td>\n",
       "    </tr>\n",
       "    <tr>\n",
       "      <th>103900</th>\n",
       "      <td>0</td>\n",
       "      <td>1</td>\n",
       "      <td>49</td>\n",
       "      <td>1</td>\n",
       "      <td>2</td>\n",
       "      <td>2347</td>\n",
       "      <td>4</td>\n",
       "      <td>4</td>\n",
       "      <td>4</td>\n",
       "      <td>4</td>\n",
       "      <td>...</td>\n",
       "      <td>5</td>\n",
       "      <td>5</td>\n",
       "      <td>5</td>\n",
       "      <td>5</td>\n",
       "      <td>5</td>\n",
       "      <td>5</td>\n",
       "      <td>4</td>\n",
       "      <td>0</td>\n",
       "      <td>0.0</td>\n",
       "      <td>1</td>\n",
       "    </tr>\n",
       "    <tr>\n",
       "      <th>103901</th>\n",
       "      <td>0</td>\n",
       "      <td>0</td>\n",
       "      <td>30</td>\n",
       "      <td>1</td>\n",
       "      <td>2</td>\n",
       "      <td>1995</td>\n",
       "      <td>1</td>\n",
       "      <td>1</td>\n",
       "      <td>1</td>\n",
       "      <td>3</td>\n",
       "      <td>...</td>\n",
       "      <td>4</td>\n",
       "      <td>3</td>\n",
       "      <td>2</td>\n",
       "      <td>4</td>\n",
       "      <td>5</td>\n",
       "      <td>5</td>\n",
       "      <td>4</td>\n",
       "      <td>7</td>\n",
       "      <td>14.0</td>\n",
       "      <td>0</td>\n",
       "    </tr>\n",
       "    <tr>\n",
       "      <th>103902</th>\n",
       "      <td>1</td>\n",
       "      <td>0</td>\n",
       "      <td>22</td>\n",
       "      <td>1</td>\n",
       "      <td>1</td>\n",
       "      <td>1000</td>\n",
       "      <td>1</td>\n",
       "      <td>1</td>\n",
       "      <td>1</td>\n",
       "      <td>5</td>\n",
       "      <td>...</td>\n",
       "      <td>1</td>\n",
       "      <td>4</td>\n",
       "      <td>5</td>\n",
       "      <td>1</td>\n",
       "      <td>5</td>\n",
       "      <td>4</td>\n",
       "      <td>1</td>\n",
       "      <td>0</td>\n",
       "      <td>0.0</td>\n",
       "      <td>0</td>\n",
       "    </tr>\n",
       "    <tr>\n",
       "      <th>103903</th>\n",
       "      <td>0</td>\n",
       "      <td>1</td>\n",
       "      <td>27</td>\n",
       "      <td>1</td>\n",
       "      <td>2</td>\n",
       "      <td>1723</td>\n",
       "      <td>1</td>\n",
       "      <td>3</td>\n",
       "      <td>3</td>\n",
       "      <td>3</td>\n",
       "      <td>...</td>\n",
       "      <td>1</td>\n",
       "      <td>1</td>\n",
       "      <td>1</td>\n",
       "      <td>4</td>\n",
       "      <td>4</td>\n",
       "      <td>3</td>\n",
       "      <td>1</td>\n",
       "      <td>0</td>\n",
       "      <td>0.0</td>\n",
       "      <td>0</td>\n",
       "    </tr>\n",
       "  </tbody>\n",
       "</table>\n",
       "<p>103594 rows × 23 columns</p>\n",
       "</div>"
      ],
      "text/plain": [
       "        Gender  Customer Type  Age  Type of Travel  Class  Flight Distance  \\\n",
       "0            0              1   13               0      3              460   \n",
       "1            0              0   25               1      2              235   \n",
       "2            1              1   26               1      2             1142   \n",
       "3            1              1   25               1      2              562   \n",
       "4            0              1   61               1      2              214   \n",
       "...        ...            ...  ...             ...    ...              ...   \n",
       "103899       1              0   23               1      1              192   \n",
       "103900       0              1   49               1      2             2347   \n",
       "103901       0              0   30               1      2             1995   \n",
       "103902       1              0   22               1      1             1000   \n",
       "103903       0              1   27               1      2             1723   \n",
       "\n",
       "        Inflight wifi service  Departure/Arrival time convenient  \\\n",
       "0                           3                                  4   \n",
       "1                           3                                  2   \n",
       "2                           2                                  2   \n",
       "3                           2                                  5   \n",
       "4                           3                                  3   \n",
       "...                       ...                                ...   \n",
       "103899                      2                                  1   \n",
       "103900                      4                                  4   \n",
       "103901                      1                                  1   \n",
       "103902                      1                                  1   \n",
       "103903                      1                                  3   \n",
       "\n",
       "        Ease of Online booking  Gate location  ...  Inflight entertainment  \\\n",
       "0                            3              1  ...                       5   \n",
       "1                            3              3  ...                       1   \n",
       "2                            2              2  ...                       5   \n",
       "3                            5              5  ...                       2   \n",
       "4                            3              3  ...                       3   \n",
       "...                        ...            ...  ...                     ...   \n",
       "103899                       2              3  ...                       2   \n",
       "103900                       4              4  ...                       5   \n",
       "103901                       1              3  ...                       4   \n",
       "103902                       1              5  ...                       1   \n",
       "103903                       3              3  ...                       1   \n",
       "\n",
       "        On-board service  Leg room service  Baggage handling  Checkin service  \\\n",
       "0                      4                 3                 4                4   \n",
       "1                      1                 5                 3                1   \n",
       "2                      4                 3                 4                4   \n",
       "3                      2                 5                 3                1   \n",
       "4                      3                 4                 4                3   \n",
       "...                  ...               ...               ...              ...   \n",
       "103899                 3                 1                 4                2   \n",
       "103900                 5                 5                 5                5   \n",
       "103901                 3                 2                 4                5   \n",
       "103902                 4                 5                 1                5   \n",
       "103903                 1                 1                 4                4   \n",
       "\n",
       "        Inflight service  Cleanliness  Departure Delay in Minutes  \\\n",
       "0                      5            5                          25   \n",
       "1                      4            1                           1   \n",
       "2                      4            5                           0   \n",
       "3                      4            2                          11   \n",
       "4                      3            3                           0   \n",
       "...                  ...          ...                         ...   \n",
       "103899                 3            2                           3   \n",
       "103900                 5            4                           0   \n",
       "103901                 5            4                           7   \n",
       "103902                 4            1                           0   \n",
       "103903                 3            1                           0   \n",
       "\n",
       "        Arrival Delay in Minutes  satisfaction  \n",
       "0                           18.0             0  \n",
       "1                            6.0             0  \n",
       "2                            0.0             1  \n",
       "3                            9.0             0  \n",
       "4                            0.0             1  \n",
       "...                          ...           ...  \n",
       "103899                       0.0             0  \n",
       "103900                       0.0             1  \n",
       "103901                      14.0             0  \n",
       "103902                       0.0             0  \n",
       "103903                       0.0             0  \n",
       "\n",
       "[103594 rows x 23 columns]"
      ]
     },
     "execution_count": 8,
     "metadata": {},
     "output_type": "execute_result"
    }
   ],
   "source": [
    "df[\"satisfaction\"] = df[\"satisfaction\"].replace({'neutral or dissatisfied': 0, 'satisfied': 1})\n",
    "df[\"Gender\"] = df[\"Gender\"].replace({\"Male\": 0, \"Female\": 1})\n",
    "df[\"Customer Type\"] = df[\"Customer Type\"].replace({'disloyal Customer': 0, 'Loyal Customer':1})\n",
    "df[\"Type of Travel\"] = df[\"Type of Travel\"].replace({'Personal Travel': 0, 'Business travel':1})\n",
    "df[\"Class\"] = df[\"Class\"].replace({'Eco': 1, 'Business':2,'Eco Plus':3})\n",
    "df"
   ]
  },
  {
   "cell_type": "code",
   "execution_count": 9,
   "metadata": {},
   "outputs": [
    {
     "name": "stdout",
     "output_type": "stream",
     "text": [
      "[0. 0. 1. ... 0. 0. 0.]\n"
     ]
    }
   ],
   "source": [
    "# Segmenting dataset into target and data\n",
    "target= df.values[:,22]\n",
    "print(target)\n"
   ]
  },
  {
   "cell_type": "code",
   "execution_count": 10,
   "metadata": {},
   "outputs": [
    {
     "name": "stdout",
     "output_type": "stream",
     "text": [
      "[[ 0.  1. 13. ...  5.  5. 25.]\n",
      " [ 0.  0. 25. ...  4.  1.  1.]\n",
      " [ 1.  1. 26. ...  4.  5.  0.]\n",
      " ...\n",
      " [ 0.  0. 30. ...  5.  4.  7.]\n",
      " [ 1.  0. 22. ...  4.  1.  0.]\n",
      " [ 0.  1. 27. ...  3.  1.  0.]]\n"
     ]
    }
   ],
   "source": [
    "data= df.values[:,0:21]\n",
    "print(data)"
   ]
  },
  {
   "cell_type": "code",
   "execution_count": 11,
   "metadata": {},
   "outputs": [
    {
     "name": "stderr",
     "output_type": "stream",
     "text": [
      "C:\\Users\\kged2\\anaconda3\\Lib\\site-packages\\sklearn\\linear_model\\_logistic.py:460: ConvergenceWarning: lbfgs failed to converge (status=1):\n",
      "STOP: TOTAL NO. of ITERATIONS REACHED LIMIT.\n",
      "\n",
      "Increase the number of iterations (max_iter) or scale the data as shown in:\n",
      "    https://scikit-learn.org/stable/modules/preprocessing.html\n",
      "Please also refer to the documentation for alternative solver options:\n",
      "    https://scikit-learn.org/stable/modules/linear_model.html#logistic-regression\n",
      "  n_iter_i = _check_optimize_result(\n"
     ]
    }
   ],
   "source": [
    "#  CLASSIFIER: LOGISTIC REGRESSION\n",
    "#Split the data into training and testing\n",
    "#Import the model\n",
    "#DEFAULT PARAMETERS\n",
    "import sklearn\n",
    "assert sklearn.__version__ >= \".20\"\n",
    "from sklearn.linear_model import LogisticRegression\n",
    "x_train,x_test,y_train,y_test = sklearn.model_selection.train_test_split(data,target,test_size=0.30)\n",
    "lm=LogisticRegression()\n",
    "lm.fit(x_train,y_train)\n",
    "lm.predict_proba(x_test)\n",
    "prediction1= lm.predict(x_test)"
   ]
  },
  {
   "cell_type": "code",
   "execution_count": 12,
   "metadata": {},
   "outputs": [
    {
     "name": "stdout",
     "output_type": "stream",
     "text": [
      "[[14025  3610]\n",
      " [ 3292 10152]]\n"
     ]
    }
   ],
   "source": [
    "#  CLASSIFIER: LOGISTIC REGRESSION - CONFUSION MATRIX\n",
    "from sklearn import metrics\n",
    "confusion_matrix1= metrics.confusion_matrix(y_test,prediction1)\n",
    "print(confusion_matrix1)"
   ]
  },
  {
   "cell_type": "code",
   "execution_count": 13,
   "metadata": {},
   "outputs": [],
   "source": [
    "#import seaborn as sns\n",
    "#import matplotlib.pyplot as plt\n",
    "#ax=sns.heatmap((confusion_matrix1/np.sum(confusion_matrix1)),annot=True,fmt='.2%',cmap='Blues')\n",
    "#plt.title('Logistic Regression - Confusion Matrix')\n",
    "#plt.xlabel('Predicted Values',fontsize=10)\n",
    "#plt.ylabel('True Values',fontsize=10)\n",
    "#plt.show()"
   ]
  },
  {
   "cell_type": "code",
   "execution_count": 14,
   "metadata": {},
   "outputs": [
    {
     "name": "stdout",
     "output_type": "stream",
     "text": [
      "              precision    recall  f1-score   support\n",
      "\n",
      "         0.0       0.81      0.80      0.80     17635\n",
      "         1.0       0.74      0.76      0.75     13444\n",
      "\n",
      "    accuracy                           0.78     31079\n",
      "   macro avg       0.77      0.78      0.77     31079\n",
      "weighted avg       0.78      0.78      0.78     31079\n",
      "\n"
     ]
    }
   ],
   "source": [
    "# CLASSIFIER: LOGISTIC REGRESSION - CLASSIFICATION REPORT\n",
    "#DEFAULT PARAMETERS\n",
    "print(metrics.classification_report(y_test,prediction1))\n",
    "#accuracy=0.75\n",
    "#f1-score=0.78"
   ]
  },
  {
   "cell_type": "code",
   "execution_count": 15,
   "metadata": {},
   "outputs": [
    {
     "name": "stdout",
     "output_type": "stream",
     "text": [
      "[[13344  4295]\n",
      " [ 2430 11010]]\n"
     ]
    },
    {
     "name": "stderr",
     "output_type": "stream",
     "text": [
      "C:\\Users\\kged2\\anaconda3\\Lib\\site-packages\\sklearn\\linear_model\\_logistic.py:460: ConvergenceWarning: lbfgs failed to converge (status=1):\n",
      "STOP: TOTAL NO. of ITERATIONS REACHED LIMIT.\n",
      "\n",
      "Increase the number of iterations (max_iter) or scale the data as shown in:\n",
      "    https://scikit-learn.org/stable/modules/preprocessing.html\n",
      "Please also refer to the documentation for alternative solver options:\n",
      "    https://scikit-learn.org/stable/modules/linear_model.html#logistic-regression\n",
      "  n_iter_i = _check_optimize_result(\n"
     ]
    }
   ],
   "source": [
    "#  CLASSIFIER: LOGISTIC REGRESSION  - CONFUSION MATRIX\n",
    "#Split the data into training and testing\n",
    "#Import the model\n",
    "#CHANGING PARAMETERS 1\n",
    "x_train,x_test,y_train,y_test = sklearn.model_selection.train_test_split(data,target,test_size=0.30)\n",
    "lm=LogisticRegression(penalty='l2',dual=False,C=0.5,class_weight='balanced',max_iter=200)\n",
    "lm.fit(x_train,y_train)\n",
    "lm.predict_proba(x_test)\n",
    "prediction1= lm.predict(x_test)\n",
    "confusion_matrix1= metrics.confusion_matrix(y_test,prediction1)\n",
    "print(confusion_matrix1)"
   ]
  },
  {
   "cell_type": "code",
   "execution_count": 16,
   "metadata": {},
   "outputs": [
    {
     "name": "stdout",
     "output_type": "stream",
     "text": [
      "              precision    recall  f1-score   support\n",
      "\n",
      "         0.0       0.85      0.76      0.80     17639\n",
      "         1.0       0.72      0.82      0.77     13440\n",
      "\n",
      "    accuracy                           0.78     31079\n",
      "   macro avg       0.78      0.79      0.78     31079\n",
      "weighted avg       0.79      0.78      0.78     31079\n",
      "\n"
     ]
    }
   ],
   "source": [
    "# CLASSIFIER: LOGISTIC REGRESSION - CLASSIFICATION REPORT\n",
    "#CHANGING PARAMETERS 1\n",
    "print(metrics.classification_report(y_test,prediction1))\n",
    "#lm=LogisticRegression(penalty='l2',dual=False,C=0.5,class_weight='balanced',max_iter=200)\n",
    "#accuracy=0.79\n",
    "#f1 score=0.81"
   ]
  },
  {
   "cell_type": "code",
   "execution_count": 17,
   "metadata": {},
   "outputs": [
    {
     "name": "stdout",
     "output_type": "stream",
     "text": [
      "[[13426  4129]\n",
      " [ 2376 11148]]\n"
     ]
    },
    {
     "name": "stderr",
     "output_type": "stream",
     "text": [
      "C:\\Users\\kged2\\anaconda3\\Lib\\site-packages\\sklearn\\linear_model\\_logistic.py:460: ConvergenceWarning: lbfgs failed to converge (status=1):\n",
      "STOP: TOTAL NO. of ITERATIONS REACHED LIMIT.\n",
      "\n",
      "Increase the number of iterations (max_iter) or scale the data as shown in:\n",
      "    https://scikit-learn.org/stable/modules/preprocessing.html\n",
      "Please also refer to the documentation for alternative solver options:\n",
      "    https://scikit-learn.org/stable/modules/linear_model.html#logistic-regression\n",
      "  n_iter_i = _check_optimize_result(\n"
     ]
    }
   ],
   "source": [
    "#Split the data into training and testing\n",
    "#Import the model\n",
    "#CHANGING PARAMETERS 2\n",
    "x_train,x_test,y_train,y_test = sklearn.model_selection.train_test_split(data,target,test_size=0.30)\n",
    "lm=LogisticRegression(penalty='l2',dual=False,C=0.5,class_weight='balanced',max_iter=200,multi_class='ovr',tol=0.0005)\n",
    "lm.fit(x_train,y_train)\n",
    "lm.predict_proba(x_test)\n",
    "prediction1= lm.predict(x_test)\n",
    "confusion_matrix1= metrics.confusion_matrix(y_test,prediction1)\n",
    "print(confusion_matrix1)"
   ]
  },
  {
   "cell_type": "code",
   "execution_count": 18,
   "metadata": {},
   "outputs": [
    {
     "name": "stdout",
     "output_type": "stream",
     "text": [
      "              precision    recall  f1-score   support\n",
      "\n",
      "         0.0       0.85      0.76      0.80     17555\n",
      "         1.0       0.73      0.82      0.77     13524\n",
      "\n",
      "    accuracy                           0.79     31079\n",
      "   macro avg       0.79      0.79      0.79     31079\n",
      "weighted avg       0.80      0.79      0.79     31079\n",
      "\n"
     ]
    }
   ],
   "source": [
    "# CLASSIFIER: LOGISTIC REGRESSION - CLASSIFICATION REPORT\n",
    "#CHANGING PARAMETERS 2\n",
    "print(metrics.classification_report(y_test,prediction1))\n",
    "#lm=LogisticRegression(penalty='l2',dual=False,C=0.5,class_weight='balanced',max_iter=200,multi_class='ovr',tol=0.0005)\n",
    "#accuracy=0.78\n",
    "#f1-score=0.78"
   ]
  },
  {
   "cell_type": "code",
   "execution_count": 34,
   "metadata": {},
   "outputs": [
    {
     "name": "stdout",
     "output_type": "stream",
     "text": [
      "[[15430  2321]\n",
      " [ 1933 11395]]\n"
     ]
    },
    {
     "name": "stderr",
     "output_type": "stream",
     "text": [
      "C:\\Users\\kged2\\anaconda3\\Lib\\site-packages\\sklearn\\linear_model\\_logistic.py:460: ConvergenceWarning: lbfgs failed to converge (status=1):\n",
      "STOP: TOTAL NO. of ITERATIONS REACHED LIMIT.\n",
      "\n",
      "Increase the number of iterations (max_iter) or scale the data as shown in:\n",
      "    https://scikit-learn.org/stable/modules/preprocessing.html\n",
      "Please also refer to the documentation for alternative solver options:\n",
      "    https://scikit-learn.org/stable/modules/linear_model.html#logistic-regression\n",
      "  n_iter_i = _check_optimize_result(\n"
     ]
    }
   ],
   "source": [
    "#  CLASSIFIER: LOGISTIC REGRESSION  - CONFUSION MATRIX\n",
    "#Split the data into training and testing\n",
    "#Import the model\n",
    "#CHANGING PARAMETERS 3\n",
    "x_train,x_test,y_train,y_test = sklearn.model_selection.train_test_split(data,target,test_size=0.30)\n",
    "lm=LogisticRegression(penalty='l2',dual=False,C=0.2,class_weight='balanced',max_iter=1000)\n",
    "lm.fit(x_train,y_train)\n",
    "lm.predict_proba(x_test)\n",
    "prediction1= lm.predict(x_test)\n",
    "confusion_matrix1= metrics.confusion_matrix(y_test,prediction1)\n",
    "print(confusion_matrix1)"
   ]
  },
  {
   "cell_type": "code",
   "execution_count": 38,
   "metadata": {},
   "outputs": [
    {
     "data": {
      "image/png": "[encoded data removed]",
      "text/plain": [
       "<Figure size 640x480 with 2 Axes>"
      ]
     },
     "metadata": {},
     "output_type": "display_data"
    }
   ],
   "source": [
    "ax=sns.heatmap((confusion_matrix1/np.sum(confusion_matrix1)),annot=True,fmt='.2%',cmap='Blues')\n",
    "plt.title('Logistic Regression - Confusion Matrix')\n",
    "plt.xlabel('Predicted Values',fontsize=10)\n",
    "plt.ylabel('True Values',fontsize=10)\n",
    "plt.show()"
   ]
  },
  {
   "cell_type": "code",
   "execution_count": 36,
   "metadata": {},
   "outputs": [
    {
     "name": "stdout",
     "output_type": "stream",
     "text": [
      "              precision    recall  f1-score   support\n",
      "\n",
      "         0.0       0.89      0.87      0.88     17751\n",
      "         1.0       0.83      0.85      0.84     13328\n",
      "\n",
      "    accuracy                           0.86     31079\n",
      "   macro avg       0.86      0.86      0.86     31079\n",
      "weighted avg       0.86      0.86      0.86     31079\n",
      "\n"
     ]
    }
   ],
   "source": [
    "# CLASSIFIER: LOGISTIC REGRESSION - CLASSIFICATION REPORT\n",
    "#CHANGING PARAMETERS 3\n",
    "print(metrics.classification_report(y_test,prediction1))\n",
    "#lm=LogisticRegression(penalty='l2',dual=False,C=0.5,class_weight='balanced',max_iter=200,multi_class='ovr',tol=0.0005)\n",
    "#accuracy=0.86\n",
    "#f1-score=0.88\n"
   ]
  },
  {
   "cell_type": "code",
   "execution_count": 21,
   "metadata": {},
   "outputs": [
    {
     "name": "stdout",
     "output_type": "stream",
     "text": [
      "KNeighborsClassifier()\n",
      "[[14230  3429]\n",
      " [ 4253  9167]]\n"
     ]
    }
   ],
   "source": [
    "#  CLASSIFIER: K NEAREST NEIGHBOURS -CONFUSION MATRIX\n",
    "\n",
    "from sklearn.neighbors import KNeighborsClassifier\n",
    "x2_train,x2_test,y2_train,y2_test=sklearn.model_selection.train_test_split(data,target,test_size=0.3)\n",
    "knn_model=KNeighborsClassifier()#add parameters to increase accuracy\n",
    "knn_model.fit(x2_train,y2_train)#add parameters to increase accuracy\n",
    "print(knn_model)\n",
    "prediction2=knn_model.predict(x2_test)\n",
    "confusion_matrix2=metrics.confusion_matrix(y2_test,prediction2)\n",
    "print(confusion_matrix2)\n",
    "\n"
   ]
  },
  {
   "cell_type": "code",
   "execution_count": 22,
   "metadata": {},
   "outputs": [],
   "source": [
    "#bx=sns.heatmap((confusion_matrix2/np.sum(confusion_matrix2)),annot=True,fmt='.2%',cmap='Oranges')\n",
    "#plt.title('K Nearest Neighbours - Confusion Matrix')\n",
    "#plt.xlabel('Predicted Values',fontsize=10)\n",
    "#plt.ylabel('True Values',fontsize=10)\n",
    "#plt.show()"
   ]
  },
  {
   "cell_type": "code",
   "execution_count": 23,
   "metadata": {},
   "outputs": [
    {
     "name": "stdout",
     "output_type": "stream",
     "text": [
      "              precision    recall  f1-score   support\n",
      "\n",
      "         0.0       0.77      0.81      0.79     17659\n",
      "         1.0       0.73      0.68      0.70     13420\n",
      "\n",
      "    accuracy                           0.75     31079\n",
      "   macro avg       0.75      0.74      0.75     31079\n",
      "weighted avg       0.75      0.75      0.75     31079\n",
      "\n"
     ]
    }
   ],
   "source": [
    "# CLASSIFIER: K NEAREST NEIGHBOURS - CLASSIFICATION REPORT\n",
    "print(metrics.classification_report(y2_test,prediction2))\n",
    "#accuracy=0.75\n",
    "#f1-score= 0.79"
   ]
  },
  {
   "cell_type": "code",
   "execution_count": 39,
   "metadata": {},
   "outputs": [
    {
     "name": "stdout",
     "output_type": "stream",
     "text": [
      "KNeighborsClassifier(algorithm='kd_tree', leaf_size=60, n_jobs=2,\n",
      "                     n_neighbors=10, p=1, weights='distance')\n",
      "[[15228  2380]\n",
      " [ 2897 10574]]\n"
     ]
    }
   ],
   "source": [
    "#  CLASSIFIER: K NEAREST NEIGHBOURS -CONFUSION MATRIX\n",
    "#CHANGING PARAMETERS 1\n",
    "\n",
    "x2_train,x2_test,y2_train,y2_test=sklearn.model_selection.train_test_split(data,target,test_size=0.3)\n",
    "knn_model=KNeighborsClassifier(n_neighbors=10,weights='distance',algorithm='kd_tree',leaf_size=60,p=1,n_jobs=2)\n",
    "knn_model.fit(x2_train,y2_train)\n",
    "print(knn_model)\n",
    "prediction2=knn_model.predict(x2_test)\n",
    "confusion_matrix2=metrics.confusion_matrix(y2_test,prediction2)\n",
    "print(confusion_matrix2)"
   ]
  },
  {
   "cell_type": "code",
   "execution_count": 40,
   "metadata": {},
   "outputs": [
    {
     "data": {
      "image/png": "[encoded data removed]",
      "text/plain": [
       "<Figure size 640x480 with 2 Axes>"
      ]
     },
     "metadata": {},
     "output_type": "display_data"
    }
   ],
   "source": [
    "bx=sns.heatmap((confusion_matrix2/np.sum(confusion_matrix2)),annot=True,fmt='.2%',cmap='Oranges')\n",
    "plt.title('K Nearest Neighbours - Confusion Matrix')\n",
    "plt.xlabel('Predicted Values',fontsize=10)\n",
    "plt.ylabel('True Values',fontsize=10)\n",
    "plt.show()"
   ]
  },
  {
   "cell_type": "code",
   "execution_count": 41,
   "metadata": {},
   "outputs": [
    {
     "name": "stdout",
     "output_type": "stream",
     "text": [
      "              precision    recall  f1-score   support\n",
      "\n",
      "         0.0       0.84      0.86      0.85     17608\n",
      "         1.0       0.82      0.78      0.80     13471\n",
      "\n",
      "    accuracy                           0.83     31079\n",
      "   macro avg       0.83      0.82      0.83     31079\n",
      "weighted avg       0.83      0.83      0.83     31079\n",
      "\n"
     ]
    }
   ],
   "source": [
    "# CLASSIFIER: K NEAREST NEIGHBOURS - CLASSIFICATION REPORT\n",
    "#CHANGING PARAMETERS 1\n",
    "print(metrics.classification_report(y2_test,prediction2))\n",
    "#accuracy = 0.83"
   ]
  },
  {
   "cell_type": "code",
   "execution_count": 26,
   "metadata": {},
   "outputs": [
    {
     "name": "stdout",
     "output_type": "stream",
     "text": [
      "KNeighborsClassifier(algorithm='kd_tree', leaf_size=70, n_jobs=5,\n",
      "                     n_neighbors=20, p=1, weights='distance')\n",
      "[[15290  2376]\n",
      " [ 3063 10350]]\n"
     ]
    }
   ],
   "source": [
    "#  CLASSIFIER: K NEAREST NEIGHBOURS -CONFUSION MATRIX\n",
    "#CHANGING PARAMETERS 2\n",
    "\n",
    "x2_train,x2_test,y2_train,y2_test=sklearn.model_selection.train_test_split(data,target,test_size=0.3)\n",
    "knn_model=KNeighborsClassifier(n_neighbors=20,weights='distance',algorithm='kd_tree',leaf_size=70,p=1,n_jobs=5)\n",
    "knn_model.fit(x2_train,y2_train)\n",
    "print(knn_model)\n",
    "prediction2=knn_model.predict(x2_test)\n",
    "confusion_matrix2=metrics.confusion_matrix(y2_test,prediction2)\n",
    "print(confusion_matrix2)"
   ]
  },
  {
   "cell_type": "code",
   "execution_count": 27,
   "metadata": {},
   "outputs": [
    {
     "name": "stdout",
     "output_type": "stream",
     "text": [
      "              precision    recall  f1-score   support\n",
      "\n",
      "         0.0       0.83      0.87      0.85     17666\n",
      "         1.0       0.81      0.77      0.79     13413\n",
      "\n",
      "    accuracy                           0.82     31079\n",
      "   macro avg       0.82      0.82      0.82     31079\n",
      "weighted avg       0.82      0.82      0.82     31079\n",
      "\n"
     ]
    }
   ],
   "source": [
    "# CLASSIFIER: K NEAREST NEIGHBOURS - CLASSIFICATION REPORT\n",
    "#CHANGING PARAMETERS 2\n",
    "print(metrics.classification_report(y2_test,prediction2))\n",
    "#accuracy = 0.83 #incrementing n_neighbros, leaf_size and n_jobs does not increment accuracy\n",
    "#f1-score= 0.85"
   ]
  },
  {
   "cell_type": "code",
   "execution_count": 28,
   "metadata": {},
   "outputs": [
    {
     "name": "stdout",
     "output_type": "stream",
     "text": [
      "KNeighborsClassifier(algorithm='ball_tree', leaf_size=60, n_jobs=2,\n",
      "                     n_neighbors=10, p=1, weights='distance')\n",
      "[[15312  2295]\n",
      " [ 2900 10572]]\n"
     ]
    }
   ],
   "source": [
    "#  CLASSIFIER: K NEAREST NEIGHBOURS -CONFUSION MATRIX\n",
    "#CHANGING PARAMETERS 3\n",
    "\n",
    "x2_train,x2_test,y2_train,y2_test=sklearn.model_selection.train_test_split(data,target,test_size=0.3)\n",
    "knn_model=KNeighborsClassifier(n_neighbors=10,weights='distance',algorithm='ball_tree',leaf_size=60,p=1,n_jobs=2)\n",
    "knn_model.fit(x2_train,y2_train)\n",
    "print(knn_model)\n",
    "prediction2=knn_model.predict(x2_test)\n",
    "confusion_matrix2=metrics.confusion_matrix(y2_test,prediction2)\n",
    "print(confusion_matrix2)"
   ]
  },
  {
   "cell_type": "code",
   "execution_count": 29,
   "metadata": {},
   "outputs": [
    {
     "name": "stdout",
     "output_type": "stream",
     "text": [
      "              precision    recall  f1-score   support\n",
      "\n",
      "         0.0       0.84      0.87      0.85     17607\n",
      "         1.0       0.82      0.78      0.80     13472\n",
      "\n",
      "    accuracy                           0.83     31079\n",
      "   macro avg       0.83      0.83      0.83     31079\n",
      "weighted avg       0.83      0.83      0.83     31079\n",
      "\n"
     ]
    }
   ],
   "source": [
    "# CLASSIFIER: K NEAREST NEIGHBOURS - CLASSIFICATION REPORT\n",
    "#CHANGING PARAMETERS 3\n",
    "print(metrics.classification_report(y2_test,prediction2))\n",
    "#accuracy = 0.83 # changing the algorithm used to compute the nearest neighbors to 'ball_tree' does not improve accuracy \n",
    "#f1-score=0.85"
   ]
  },
  {
   "cell_type": "code",
   "execution_count": 43,
   "metadata": {},
   "outputs": [
    {
     "name": "stdout",
     "output_type": "stream",
     "text": [
      "DecisionTreeClassifier()\n",
      "[[16657   940]\n",
      " [  820 12662]]\n"
     ]
    }
   ],
   "source": [
    "#  CLASSIFIER: DECISION TREE - CONFUSION MATRIX\n",
    "from sklearn.tree import DecisionTreeClassifier\n",
    "x3_train,x3_test,y3_train,y3_test=sklearn.model_selection.train_test_split(data,target,test_size=0.3)\n",
    "dt_model=DecisionTreeClassifier()\n",
    "dt_model.fit(x3_train,y3_train)\n",
    "print(dt_model)\n",
    "prediction3=dt_model.predict(x3_test)\n",
    "confusion_matrix3=metrics.confusion_matrix(y3_test,prediction3)\n",
    "print(confusion_matrix3)"
   ]
  },
  {
   "cell_type": "code",
   "execution_count": 44,
   "metadata": {},
   "outputs": [
    {
     "data": {
      "image/png": "[encoded data removed]",
      "text/plain": [
       "<Figure size 640x480 with 2 Axes>"
      ]
     },
     "metadata": {},
     "output_type": "display_data"
    }
   ],
   "source": [
    "cx=sns.heatmap((confusion_matrix3/np.sum(confusion_matrix3)),annot=True,fmt='.2%',cmap='YlOrRd')\n",
    "plt.title('Decision Tree - Confusion Matrix')\n",
    "plt.xlabel('Predicted Values',fontsize=10)\n",
    "plt.ylabel('True Values',fontsize=10)\n",
    "plt.show()"
   ]
  },
  {
   "cell_type": "code",
   "execution_count": 45,
   "metadata": {},
   "outputs": [
    {
     "name": "stdout",
     "output_type": "stream",
     "text": [
      "              precision    recall  f1-score   support\n",
      "\n",
      "         0.0       0.95      0.95      0.95     17597\n",
      "         1.0       0.93      0.94      0.94     13482\n",
      "\n",
      "    accuracy                           0.94     31079\n",
      "   macro avg       0.94      0.94      0.94     31079\n",
      "weighted avg       0.94      0.94      0.94     31079\n",
      "\n"
     ]
    }
   ],
   "source": [
    "# CLASSIFIER: DECISION TREE - CLASSIFICATION REPORT\n",
    "print(metrics.classification_report(y3_test,prediction3))\n",
    "#accuracy=0.94\n",
    "#f1-score= 0.95"
   ]
  },
  {
   "cell_type": "code",
   "execution_count": null,
   "metadata": {},
   "outputs": [],
   "source": [
    "#  CLASSIFIER: DECISION TREE - CONFUSION MATRIX\n",
    "#CHANGING PARAMETERS 1\n",
    "\n",
    "x3_train,x3_test,y3_train,y3_test=sklearn.model_selection.train_test_split(data,target,test_size=0.3)\n",
    "dt_model=DecisionTreeClassifier(criterion='entropy',splitter='random',max_features='log2',max_depth=20,min_samples_split=5,min_samples_leaf=2,max_leaf_nodes=20)\n",
    "dt_model.fit(x3_train,y3_train)\n",
    "print(dt_model)\n",
    "prediction3=dt_model.predict(x3_test)\n",
    "confusion_matrix3=metrics.confusion_matrix(y3_test,prediction3)\n",
    "print(confusion_matrix3)"
   ]
  },
  {
   "cell_type": "code",
   "execution_count": null,
   "metadata": {},
   "outputs": [],
   "source": [
    "# CLASSIFIER: DECISION TREE - CLASSIFICATION REPORT\n",
    "#CHANGING PARAMETERS 1\n",
    "print(metrics.classification_report(y3_test,prediction3))\n",
    "#accuracy=0.82 #Changing the default parameters decreased accuracy\n",
    "#f1-score= 0.84"
   ]
  },
  {
   "cell_type": "code",
   "execution_count": null,
   "metadata": {},
   "outputs": [],
   "source": [
    "#  CLASSIFIER: DECISION TREE - CONFUSION MATRIX\n",
    "#CHANGING PARAMETERS 2\n",
    "\n",
    "x3_train,x3_test,y3_train,y3_test=sklearn.model_selection.train_test_split(data,target,test_size=0.3)\n",
    "dt_model=DecisionTreeClassifier(criterion='gini',splitter='random',max_features='sqrt',max_depth=20,min_samples_split=5,min_samples_leaf=2,max_leaf_nodes=20)\n",
    "dt_model.fit(x3_train,y3_train)\n",
    "print(dt_model)\n",
    "prediction3=dt_model.predict(x3_test)\n",
    "confusion_matrix3=metrics.confusion_matrix(y3_test,prediction3)\n",
    "print(confusion_matrix3)"
   ]
  },
  {
   "cell_type": "code",
   "execution_count": null,
   "metadata": {},
   "outputs": [],
   "source": [
    "# CLASSIFIER: DECISION TREE - CLASSIFICATION REPORT\n",
    "#CHANGING PARAMETERS 2\n",
    "print(metrics.classification_report(y3_test,prediction3))\n",
    "#accuracy=0.85 #Changing criterion to 'gini' and max_features='sqrt' improved accuracy\n",
    "#f1-score= 0.87"
   ]
  },
  {
   "cell_type": "code",
   "execution_count": null,
   "metadata": {},
   "outputs": [],
   "source": [
    "#  CLASSIFIER: DECISION TREE - CONFUSION MATRIX\n",
    "#CHANGING PARAMETERS 3\n",
    "\n",
    "x3_train,x3_test,y3_train,y3_test=sklearn.model_selection.train_test_split(data,target,test_size=0.3)\n",
    "dt_model=DecisionTreeClassifier(criterion='gini',splitter='random',max_features='sqrt',max_depth=50,min_samples_split=20,min_samples_leaf=10,max_leaf_nodes=40)\n",
    "dt_model.fit(x3_train,y3_train)\n",
    "print(dt_model)\n",
    "prediction3=dt_model.predict(x3_test)\n",
    "confusion_matrix3=metrics.confusion_matrix(y3_test,prediction3)\n",
    "print(confusion_matrix3)"
   ]
  },
  {
   "cell_type": "code",
   "execution_count": null,
   "metadata": {},
   "outputs": [],
   "source": [
    "# CLASSIFIER: DECISION TREE - CLASSIFICATION REPORT\n",
    "#CHANGING PARAMETERS 3\n",
    "print(metrics.classification_report(y3_test,prediction3))\n",
    "#accuracy=0.83 #Setting higher values for the int parameters decreased accuracy. \n",
    "#f1-score=0.83\n",
    "#conclusion: default parameters are the best fit for the model\n"
   ]
  },
  {
   "cell_type": "code",
   "execution_count": 46,
   "metadata": {},
   "outputs": [
    {
     "name": "stdout",
     "output_type": "stream",
     "text": [
      "[[15951  1656]\n",
      " [ 2467 11005]]\n"
     ]
    }
   ],
   "source": [
    "#  CLASSIFIER: NAIVE BAYES - CONFUSION MATRIX\n",
    "\n",
    "from sklearn.naive_bayes import GaussianNB\n",
    "x4_train,x4_test,y4_train,y4_test=sklearn.model_selection.train_test_split(data,target,test_size=0.3)\n",
    "nb_model=GaussianNB()\n",
    "nb_model.fit(x4_train,y4_train)\n",
    "prediction4=nb_model.predict(x4_test)\n",
    "confusion_matrix4=metrics.confusion_matrix(y4_test,prediction4)\n",
    "print(confusion_matrix4)"
   ]
  },
  {
   "cell_type": "code",
   "execution_count": 47,
   "metadata": {},
   "outputs": [],
   "source": [
    "#dx=sns.heatmap((confusion_matrix4/np.sum(confusion_matrix4)),annot=True,fmt='.2%',cmap='RdPu')\n",
    "#plt.title('Naive Bayes - Confusion Matrix')\n",
    "#plt.xlabel('Predicted Values',fontsize=10)\n",
    "#plt.ylabel('True Values',fontsize=10)\n",
    "#plt.show()"
   ]
  },
  {
   "cell_type": "code",
   "execution_count": 48,
   "metadata": {},
   "outputs": [
    {
     "name": "stdout",
     "output_type": "stream",
     "text": [
      "              precision    recall  f1-score   support\n",
      "\n",
      "         0.0       0.87      0.91      0.89     17607\n",
      "         1.0       0.87      0.82      0.84     13472\n",
      "\n",
      "    accuracy                           0.87     31079\n",
      "   macro avg       0.87      0.86      0.86     31079\n",
      "weighted avg       0.87      0.87      0.87     31079\n",
      "\n"
     ]
    }
   ],
   "source": [
    "# CLASSIFIER: NAIVE BAYES - CLASSIFICATION REPORT\n",
    "print(metrics.classification_report(y4_test,prediction4))\n",
    "#accuracy=0.87\n",
    "#f1-score=0.89"
   ]
  },
  {
   "cell_type": "code",
   "execution_count": 49,
   "metadata": {},
   "outputs": [
    {
     "name": "stdout",
     "output_type": "stream",
     "text": [
      "[[15881  1587]\n",
      " [ 2468 11143]]\n"
     ]
    }
   ],
   "source": [
    "#  CLASSIFIER: NAIVE BAYES - CONFUSION MATRIX\n",
    "#CHANGING PARAMETERS 1\n",
    "\n",
    "x4_train,x4_test,y4_train,y4_test=sklearn.model_selection.train_test_split(data,target,test_size=0.3)\n",
    "nb_model=GaussianNB(var_smoothing=1e-20)\n",
    "nb_model.fit(x4_train,y4_train)\n",
    "prediction4=nb_model.predict(x4_test)\n",
    "confusion_matrix4=metrics.confusion_matrix(y4_test,prediction4)\n",
    "print(confusion_matrix4)"
   ]
  },
  {
   "cell_type": "code",
   "execution_count": 53,
   "metadata": {},
   "outputs": [
    {
     "data": {
      "image/png": "[encoded data removed]",
      "text/plain": [
       "<Figure size 640x480 with 2 Axes>"
      ]
     },
     "metadata": {},
     "output_type": "display_data"
    }
   ],
   "source": [
    "dx=sns.heatmap((confusion_matrix4/np.sum(confusion_matrix4)),annot=True,fmt='.2%',cmap='RdPu')\n",
    "plt.title('Naive Bayes - Confusion Matrix')\n",
    "plt.xlabel('Predicted Values',fontsize=10)\n",
    "plt.ylabel('True Values',fontsize=10)\n",
    "plt.show()"
   ]
  },
  {
   "cell_type": "code",
   "execution_count": 50,
   "metadata": {},
   "outputs": [
    {
     "name": "stdout",
     "output_type": "stream",
     "text": [
      "              precision    recall  f1-score   support\n",
      "\n",
      "         0.0       0.87      0.91      0.89     17468\n",
      "         1.0       0.88      0.82      0.85     13611\n",
      "\n",
      "    accuracy                           0.87     31079\n",
      "   macro avg       0.87      0.86      0.87     31079\n",
      "weighted avg       0.87      0.87      0.87     31079\n",
      "\n"
     ]
    }
   ],
   "source": [
    "# CLASSIFIER: NAIVE BAYES - CLASSIFICATION REPORT\n",
    "#CHANGING PARAMETERS 1\n",
    "print(metrics.classification_report(y4_test,prediction4))\n",
    "#accuracy=0.87 # Changing the var_smoothing to a smaller value does not improve accuracy\n",
    "#f1-score=0.89"
   ]
  },
  {
   "cell_type": "code",
   "execution_count": 51,
   "metadata": {},
   "outputs": [
    {
     "name": "stdout",
     "output_type": "stream",
     "text": [
      "[[15096  2413]\n",
      " [ 7760  5810]]\n"
     ]
    }
   ],
   "source": [
    "#  CLASSIFIER: NAIVE BAYES - CONFUSION MATRIX\n",
    "#CHANGING PARAMETERS 2\n",
    "\n",
    "x4_train,x4_test,y4_train,y4_test=sklearn.model_selection.train_test_split(data,target,test_size=0.3)\n",
    "nb_model=GaussianNB(var_smoothing=1e-4)\n",
    "nb_model.fit(x4_train,y4_train)\n",
    "prediction4=nb_model.predict(x4_test)\n",
    "confusion_matrix4=metrics.confusion_matrix(y4_test,prediction4)\n",
    "print(confusion_matrix4)"
   ]
  },
  {
   "cell_type": "code",
   "execution_count": 52,
   "metadata": {},
   "outputs": [
    {
     "name": "stdout",
     "output_type": "stream",
     "text": [
      "              precision    recall  f1-score   support\n",
      "\n",
      "         0.0       0.66      0.86      0.75     17509\n",
      "         1.0       0.71      0.43      0.53     13570\n",
      "\n",
      "    accuracy                           0.67     31079\n",
      "   macro avg       0.68      0.65      0.64     31079\n",
      "weighted avg       0.68      0.67      0.65     31079\n",
      "\n"
     ]
    }
   ],
   "source": [
    "# CLASSIFIER: NAIVE BAYES - CLASSIFICATION REPORT\n",
    "#CHANGING PARAMETERS 2\n",
    "print(metrics.classification_report(y4_test,prediction4))\n",
    "#accuracy=0.68 Changing the var_smoothing to a greater value does not improve accuracy\n",
    "#f1-score=0.76"
   ]
  },
  {
   "cell_type": "markdown",
   "metadata": {},
   "source": [
    "Conclusion:\n",
    "\n",
    "The best classifier that fits the model is \"Decision Tree\" with its default parameters displaying an accuracy of 94%\n",
    "-A classification report is a collection of different evaluation metrics.\n",
    "- Read Classification report Anatomy for deeper analysis\n",
    "-Use this link to help write analysis\n",
    "https://www.youtube.com/watch?v=XiUlqN1Ay0U\n",
    "\n",
    "Questions:\n",
    "\n",
    "-I want to make a table out of the results. Is there a function I can use to extract results from classification report? or do I have to calculate the evaluation methods separately to build the table?"
   ]
  },
  {
   "cell_type": "code",
   "execution_count": null,
   "metadata": {},
   "outputs": [],
   "source": []
  },
  {
   "cell_type": "code",
   "execution_count": null,
   "metadata": {},
   "outputs": [],
   "source": []
  },
  {
   "cell_type": "code",
   "execution_count": null,
   "metadata": {},
   "outputs": [],
   "source": []
  }
 ],
 "metadata": {
  "kernelspec": {
   "display_name": "Python 3 (ipykernel)",
   "language": "python",
   "name": "python3"
  },
  "language_info": {
   "codemirror_mode": {
    "name": "ipython",
    "version": 3
   },
   "file_extension": ".py",
   "mimetype": "text/x-python",
   "name": "python",
   "nbconvert_exporter": "python",
   "pygments_lexer": "ipython3",
   "version": "3.11.4"
  }
 },
 "nbformat": 4,
 "nbformat_minor": 4
}
